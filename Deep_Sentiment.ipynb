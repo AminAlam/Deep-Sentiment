{
  "cells": [
    {
      "cell_type": "code",
      "execution_count": 2,
      "metadata": {
        "id": "A3VEjxTL2Muq",
        "colab": {
          "base_uri": "https://localhost:8080/"
        },
        "outputId": "2dfebc66-d3c5-4f51-be95-dfc35bb04e00"
      },
      "outputs": [
        {
          "output_type": "stream",
          "name": "stdout",
          "text": [
            "Drive already mounted at /content/drive; to attempt to forcibly remount, call drive.mount(\"/content/drive\", force_remount=True).\n"
          ]
        }
      ],
      "source": [
        "import pandas as pd\n",
        "import numpy as np\n",
        "import time\n",
        "import spacy\n",
        "import random\n",
        "from pathlib import Path\n",
        "import torch \n",
        "import torch.nn as nn\n",
        "import torch.nn.functional as F\n",
        "import torch.optim as optim\n",
        "from torchtext import data \n",
        "import torchtext\n",
        "from nltk.tokenize.treebank import TreebankWordDetokenizer\n",
        "import matplotlib.pyplot as plt\n",
        "from sklearn.metrics import confusion_matrix\n",
        "\n",
        "\n",
        "from google.colab import drive\n",
        "drive.mount('/content/drive')"
      ]
    },
    {
      "cell_type": "code",
      "execution_count": 3,
      "metadata": {
        "id": "B_aKa0i90DNE",
        "colab": {
          "base_uri": "https://localhost:8080/"
        },
        "outputId": "877b6ac2-6a9c-437c-a381-4a3683c0bd92"
      },
      "outputs": [
        {
          "output_type": "stream",
          "name": "stdout",
          "text": [
            "Using device: cuda\n",
            "\n",
            "Tesla T4\n",
            "Memory Usage:\n",
            "Allocated: 0.0 GB\n",
            "Cached:    0.0 GB\n"
          ]
        },
        {
          "output_type": "stream",
          "name": "stderr",
          "text": [
            "/usr/local/lib/python3.7/dist-packages/torch/cuda/memory.py:386: FutureWarning: torch.cuda.memory_cached has been renamed to torch.cuda.memory_reserved\n",
            "  FutureWarning)\n"
          ]
        }
      ],
      "source": [
        "# Setting device on GPU if available\n",
        "device = torch.device('cuda' if torch.cuda.is_available() else 'cpu')\n",
        "print('Using device:', device)\n",
        "print()\n",
        "\n",
        "if device.type == 'cuda':\n",
        "    print(torch.cuda.get_device_name(0))\n",
        "    print('Memory Usage:')\n",
        "    print('Allocated:', round(torch.cuda.memory_allocated(0)/1024**3,1), 'GB')\n",
        "    print('Cached:   ', round(torch.cuda.memory_cached(0)/1024**3,1), 'GB')\n",
        "\n",
        "torch.backends.cudnn.deterministic = True"
      ]
    },
    {
      "cell_type": "markdown",
      "metadata": {
        "id": "WsQEXhGRNHAU"
      },
      "source": [
        "#### Loading Dataset - Preprocessing on the Tweets"
      ]
    },
    {
      "cell_type": "code",
      "execution_count": 4,
      "metadata": {
        "id": "FYUGZGQGU_mj"
      },
      "outputs": [],
      "source": [
        "datas_dir = r'/content/drive/My Drive/Courses/DeepLearning/HW03/Q01/Datas/train.csv'\n",
        "destination_folder = '/content/drive/My Drive/Courses/DeepLearning/HW03/Q01/Datas'"
      ]
    },
    {
      "cell_type": "code",
      "execution_count": 5,
      "metadata": {
        "id": "Uq5UljEbtmSv",
        "colab": {
          "base_uri": "https://localhost:8080/",
          "height": 206
        },
        "outputId": "5439e02c-4db2-4284-af59-910c81baa623"
      },
      "outputs": [
        {
          "output_type": "execute_result",
          "data": {
            "text/html": [
              "\n",
              "  <div id=\"df-e37f220d-3e6c-471a-94a5-4e1b289182eb\">\n",
              "    <div class=\"colab-df-container\">\n",
              "      <div>\n",
              "<style scoped>\n",
              "    .dataframe tbody tr th:only-of-type {\n",
              "        vertical-align: middle;\n",
              "    }\n",
              "\n",
              "    .dataframe tbody tr th {\n",
              "        vertical-align: top;\n",
              "    }\n",
              "\n",
              "    .dataframe thead th {\n",
              "        text-align: right;\n",
              "    }\n",
              "</style>\n",
              "<table border=\"1\" class=\"dataframe\">\n",
              "  <thead>\n",
              "    <tr style=\"text-align: right;\">\n",
              "      <th></th>\n",
              "      <th>0</th>\n",
              "      <th>1</th>\n",
              "      <th>2</th>\n",
              "      <th>3</th>\n",
              "      <th>4</th>\n",
              "      <th>5</th>\n",
              "    </tr>\n",
              "  </thead>\n",
              "  <tbody>\n",
              "    <tr>\n",
              "      <th>0</th>\n",
              "      <td>0</td>\n",
              "      <td>1467810369</td>\n",
              "      <td>Mon Apr 06 22:19:45 PDT 2009</td>\n",
              "      <td>NO_QUERY</td>\n",
              "      <td>_TheSpecialOne_</td>\n",
              "      <td>@switchfoot http://twitpic.com/2y1zl - Awww, t...</td>\n",
              "    </tr>\n",
              "    <tr>\n",
              "      <th>1</th>\n",
              "      <td>0</td>\n",
              "      <td>1467810672</td>\n",
              "      <td>Mon Apr 06 22:19:49 PDT 2009</td>\n",
              "      <td>NO_QUERY</td>\n",
              "      <td>scotthamilton</td>\n",
              "      <td>is upset that he can't update his Facebook by ...</td>\n",
              "    </tr>\n",
              "    <tr>\n",
              "      <th>2</th>\n",
              "      <td>0</td>\n",
              "      <td>1467810917</td>\n",
              "      <td>Mon Apr 06 22:19:53 PDT 2009</td>\n",
              "      <td>NO_QUERY</td>\n",
              "      <td>mattycus</td>\n",
              "      <td>@Kenichan I dived many times for the ball. Man...</td>\n",
              "    </tr>\n",
              "    <tr>\n",
              "      <th>3</th>\n",
              "      <td>0</td>\n",
              "      <td>1467811184</td>\n",
              "      <td>Mon Apr 06 22:19:57 PDT 2009</td>\n",
              "      <td>NO_QUERY</td>\n",
              "      <td>ElleCTF</td>\n",
              "      <td>my whole body feels itchy and like its on fire</td>\n",
              "    </tr>\n",
              "    <tr>\n",
              "      <th>4</th>\n",
              "      <td>0</td>\n",
              "      <td>1467811193</td>\n",
              "      <td>Mon Apr 06 22:19:57 PDT 2009</td>\n",
              "      <td>NO_QUERY</td>\n",
              "      <td>Karoli</td>\n",
              "      <td>@nationwideclass no, it's not behaving at all....</td>\n",
              "    </tr>\n",
              "  </tbody>\n",
              "</table>\n",
              "</div>\n",
              "      <button class=\"colab-df-convert\" onclick=\"convertToInteractive('df-e37f220d-3e6c-471a-94a5-4e1b289182eb')\"\n",
              "              title=\"Convert this dataframe to an interactive table.\"\n",
              "              style=\"display:none;\">\n",
              "        \n",
              "  <svg xmlns=\"http://www.w3.org/2000/svg\" height=\"24px\"viewBox=\"0 0 24 24\"\n",
              "       width=\"24px\">\n",
              "    <path d=\"M0 0h24v24H0V0z\" fill=\"none\"/>\n",
              "    <path d=\"M18.56 5.44l.94 2.06.94-2.06 2.06-.94-2.06-.94-.94-2.06-.94 2.06-2.06.94zm-11 1L8.5 8.5l.94-2.06 2.06-.94-2.06-.94L8.5 2.5l-.94 2.06-2.06.94zm10 10l.94 2.06.94-2.06 2.06-.94-2.06-.94-.94-2.06-.94 2.06-2.06.94z\"/><path d=\"M17.41 7.96l-1.37-1.37c-.4-.4-.92-.59-1.43-.59-.52 0-1.04.2-1.43.59L10.3 9.45l-7.72 7.72c-.78.78-.78 2.05 0 2.83L4 21.41c.39.39.9.59 1.41.59.51 0 1.02-.2 1.41-.59l7.78-7.78 2.81-2.81c.8-.78.8-2.07 0-2.86zM5.41 20L4 18.59l7.72-7.72 1.47 1.35L5.41 20z\"/>\n",
              "  </svg>\n",
              "      </button>\n",
              "      \n",
              "  <style>\n",
              "    .colab-df-container {\n",
              "      display:flex;\n",
              "      flex-wrap:wrap;\n",
              "      gap: 12px;\n",
              "    }\n",
              "\n",
              "    .colab-df-convert {\n",
              "      background-color: #E8F0FE;\n",
              "      border: none;\n",
              "      border-radius: 50%;\n",
              "      cursor: pointer;\n",
              "      display: none;\n",
              "      fill: #1967D2;\n",
              "      height: 32px;\n",
              "      padding: 0 0 0 0;\n",
              "      width: 32px;\n",
              "    }\n",
              "\n",
              "    .colab-df-convert:hover {\n",
              "      background-color: #E2EBFA;\n",
              "      box-shadow: 0px 1px 2px rgba(60, 64, 67, 0.3), 0px 1px 3px 1px rgba(60, 64, 67, 0.15);\n",
              "      fill: #174EA6;\n",
              "    }\n",
              "\n",
              "    [theme=dark] .colab-df-convert {\n",
              "      background-color: #3B4455;\n",
              "      fill: #D2E3FC;\n",
              "    }\n",
              "\n",
              "    [theme=dark] .colab-df-convert:hover {\n",
              "      background-color: #434B5C;\n",
              "      box-shadow: 0px 1px 3px 1px rgba(0, 0, 0, 0.15);\n",
              "      filter: drop-shadow(0px 1px 2px rgba(0, 0, 0, 0.3));\n",
              "      fill: #FFFFFF;\n",
              "    }\n",
              "  </style>\n",
              "\n",
              "      <script>\n",
              "        const buttonEl =\n",
              "          document.querySelector('#df-e37f220d-3e6c-471a-94a5-4e1b289182eb button.colab-df-convert');\n",
              "        buttonEl.style.display =\n",
              "          google.colab.kernel.accessAllowed ? 'block' : 'none';\n",
              "\n",
              "        async function convertToInteractive(key) {\n",
              "          const element = document.querySelector('#df-e37f220d-3e6c-471a-94a5-4e1b289182eb');\n",
              "          const dataTable =\n",
              "            await google.colab.kernel.invokeFunction('convertToInteractive',\n",
              "                                                     [key], {});\n",
              "          if (!dataTable) return;\n",
              "\n",
              "          const docLinkHtml = 'Like what you see? Visit the ' +\n",
              "            '<a target=\"_blank\" href=https://colab.research.google.com/notebooks/data_table.ipynb>data table notebook</a>'\n",
              "            + ' to learn more about interactive tables.';\n",
              "          element.innerHTML = '';\n",
              "          dataTable['output_type'] = 'display_data';\n",
              "          await google.colab.output.renderOutput(dataTable, element);\n",
              "          const docLink = document.createElement('div');\n",
              "          docLink.innerHTML = docLinkHtml;\n",
              "          element.appendChild(docLink);\n",
              "        }\n",
              "      </script>\n",
              "    </div>\n",
              "  </div>\n",
              "  "
            ],
            "text/plain": [
              "   0  ...                                                  5\n",
              "0  0  ...  @switchfoot http://twitpic.com/2y1zl - Awww, t...\n",
              "1  0  ...  is upset that he can't update his Facebook by ...\n",
              "2  0  ...  @Kenichan I dived many times for the ball. Man...\n",
              "3  0  ...    my whole body feels itchy and like its on fire \n",
              "4  0  ...  @nationwideclass no, it's not behaving at all....\n",
              "\n",
              "[5 rows x 6 columns]"
            ]
          },
          "metadata": {},
          "execution_count": 5
        }
      ],
      "source": [
        "df = pd.read_csv(datas_dir, engine=\"python\", header=None)\n",
        "df.head(5)"
      ]
    },
    {
      "cell_type": "code",
      "execution_count": 6,
      "metadata": {
        "id": "iaomRusYziSl",
        "colab": {
          "base_uri": "https://localhost:8080/"
        },
        "outputId": "299e2bc2-73d8-4f22-8de2-a55e3d13d87d"
      },
      "outputs": [
        {
          "output_type": "execute_result",
          "data": {
            "text/plain": [
              "1    800000\n",
              "0    800000\n",
              "Name: 0, dtype: int64"
            ]
          },
          "metadata": {},
          "execution_count": 6
        }
      ],
      "source": [
        "df[0]=df[0].replace(to_replace=4,value=1)\n",
        "df[0].value_counts()"
      ]
    },
    {
      "cell_type": "code",
      "execution_count": 7,
      "metadata": {
        "id": "o0GD2nAdzlv5"
      },
      "outputs": [],
      "source": [
        "df.sample(200000).to_csv(\"sentiment140-small.csv\", header=None, index=None)"
      ]
    },
    {
      "cell_type": "code",
      "execution_count": 8,
      "metadata": {
        "id": "BajJ_JKgwlYg",
        "colab": {
          "base_uri": "https://localhost:8080/"
        },
        "outputId": "3c16f227-6a4b-4ba3-e13f-0fb68bf9ad0a"
      },
      "outputs": [
        {
          "output_type": "stream",
          "name": "stdout",
          "text": [
            "Number of train data: 160000\n",
            "Number of test data: 20000\n",
            "Number of validation data: 20000\n"
          ]
        }
      ],
      "source": [
        "TEXT = torchtext.legacy.data.Field(tokenize='spacy', lower=True, include_lengths= True)\n",
        "LABEL = torchtext.legacy.data.LabelField(dtype=torch.float)\n",
        "\n",
        "fields = [('label', LABEL), ('id',None),('date',None),('query',None),\n",
        "      ('name',None), ('text', TEXT),('category',None)]\n",
        "\n",
        "dataset = torchtext.legacy.data.TabularDataset(\n",
        "        path=\"sentiment140-small.csv\",\n",
        "        format=\"CSV\",\n",
        "        fields=fields,\n",
        "        skip_header=False)\n",
        "\n",
        "(train_data, test_data, valid_data) = dataset.split(split_ratio=[0.8,0.1,0.1])\n",
        "\n",
        "print(\"Number of train data: {}\".format(len(train_data)))\n",
        "print(\"Number of test data: {}\".format(len(test_data)))\n",
        "print(\"Number of validation data: {}\".format(len(valid_data)))"
      ]
    },
    {
      "cell_type": "code",
      "execution_count": 9,
      "metadata": {
        "id": "QRyrGQbf1tMh",
        "colab": {
          "base_uri": "https://localhost:8080/"
        },
        "outputId": "f793407a-7b92-4007-f374-369d537886ba"
      },
      "outputs": [
        {
          "output_type": "stream",
          "name": "stdout",
          "text": [
            "{'label': '0', 'text': ['@yagulmez', 'i', 'missed', 'the', 'game']}\n"
          ]
        }
      ],
      "source": [
        "# An example from the training set\n",
        "print(vars(train_data.examples[0]))"
      ]
    },
    {
      "cell_type": "markdown",
      "metadata": {
        "id": "lwJWRD6g0rcl"
      },
      "source": [
        "#### Building Vocabulary"
      ]
    },
    {
      "cell_type": "code",
      "execution_count": 10,
      "metadata": {
        "id": "JoRWy5k_10lM",
        "colab": {
          "base_uri": "https://localhost:8080/"
        },
        "outputId": "e863af01-b3fa-49f7-c08b-59234ec34267"
      },
      "outputs": [
        {
          "output_type": "stream",
          "name": "stderr",
          "text": [
            ".vector_cache/glove.6B.zip: 862MB [02:41, 5.35MB/s]                           \n",
            "100%|█████████▉| 399999/400000 [00:14<00:00, 27708.68it/s]\n"
          ]
        },
        {
          "output_type": "execute_result",
          "data": {
            "text/plain": [
              "[('i', 99547),\n",
              " ('!', 90778),\n",
              " ('.', 80825),\n",
              " (' ', 58604),\n",
              " ('to', 56300),\n",
              " ('the', 52229),\n",
              " (',', 48269),\n",
              " ('a', 38053),\n",
              " ('my', 31449),\n",
              " ('and', 30697)]"
            ]
          },
          "metadata": {},
          "execution_count": 10
        }
      ],
      "source": [
        "MAX_VOCAB_SIZE = 50000\n",
        "\n",
        "TEXT.build_vocab(train_data, \n",
        "                 max_size = MAX_VOCAB_SIZE,\n",
        "                 vectors = \"glove.6B.100d\",\n",
        "                 unk_init = torch.Tensor.normal_)\n",
        "\n",
        "LABEL.build_vocab(train_data)\n",
        "\n",
        "TEXT.vocab.freqs.most_common(10)"
      ]
    },
    {
      "cell_type": "code",
      "execution_count": 11,
      "metadata": {
        "id": "GGagvCYQ17Ua"
      },
      "outputs": [],
      "source": [
        "BATCH_SIZE = 128\n",
        "\n",
        "train_iterator, valid_iterator, test_iterator = torchtext.legacy.data.BucketIterator.splits(\n",
        "    (train_data, valid_data, test_data),\n",
        "    device = device,\n",
        "    batch_size = BATCH_SIZE,\n",
        "    sort_key = lambda x: len(x.text),\n",
        "    sort_within_batch = True)"
      ]
    },
    {
      "cell_type": "markdown",
      "metadata": {
        "id": "mVZV5XUaAd83"
      },
      "source": [
        "#### Helper Functions"
      ]
    },
    {
      "cell_type": "code",
      "execution_count": 12,
      "metadata": {
        "id": "igwY2GdQsBif"
      },
      "outputs": [],
      "source": [
        "def print_confusion_matrix(model, iterator, num_classes):\n",
        "  cls_true = []\n",
        "  cls_pred = []\n",
        "\n",
        "  with torch.no_grad(): \n",
        "\n",
        "    for batch in iterator:\n",
        "\n",
        "        if batch.label.shape[0]!=128:\n",
        "          continue\n",
        "        text, text_lengths = batch.text\n",
        "        text_lengths = text_lengths.cpu()\n",
        "        predictions = model(text, text_lengths).squeeze(1)\n",
        "        preds = torch.round(torch.sigmoid(predictions))\n",
        "        cls_true.append(batch.label)\n",
        "        cls_pred.append(preds)\n",
        "      \n",
        "    cls_true = torch.FloatTensor(torch.stack(cls_true).view(-1).cpu())\n",
        "    cls_pred = torch.FloatTensor(torch.stack(cls_pred).view(-1).cpu())\n",
        "    cm = confusion_matrix(y_true=cls_true, y_pred=cls_pred)\n",
        "    \n",
        "    plt.imshow(cm, interpolation='nearest', cmap=plt.cm.Blues)\n",
        "\n",
        "    plt.tight_layout()\n",
        "    plt.colorbar()\n",
        "    plt.clim(0, 10000) \n",
        "    tick_marks = np.arange(num_classes)\n",
        "    plt.xticks(tick_marks, range(num_classes))\n",
        "    plt.yticks(tick_marks, range(num_classes))\n",
        "    plt.xlabel('Predicted')\n",
        "    plt.ylabel('True')\n",
        "    plt.show()\n",
        "\n",
        "def batch_accuracy(predictions, label):\n",
        "\n",
        "    preds = torch.round(torch.sigmoid(predictions))\n",
        "    correct = (preds == label).float()\n",
        "    accuracy = correct.sum() / len(correct)\n",
        "\n",
        "    return accuracy\n",
        "\n",
        "def timer(start_time, end_time):\n",
        "\n",
        "    time = end_time - start_time\n",
        "    mins = int(time / 60)\n",
        "    secs = int(time - (mins * 60))\n",
        "\n",
        "    return mins, secs\n",
        "\n",
        "def train(model, iterator, optimizer, criterion):\n",
        "\n",
        "    training_loss = 0.0\n",
        "    training_acc = 0.0\n",
        "    \n",
        "    model.train()\n",
        "     \n",
        "    for batch in iterator:\n",
        "        \n",
        "        optimizer.zero_grad()\n",
        "        \n",
        "        text, text_lengths = batch.text\n",
        "        text_lengths = text_lengths.cpu()\n",
        "        predictions = model(text, text_lengths).squeeze(1)\n",
        "        \n",
        "        loss = criterion(predictions, batch.label)\n",
        "\n",
        "        accuracy = batch_accuracy(predictions, batch.label)\n",
        "        \n",
        "        loss.backward()\n",
        "        \n",
        "        optimizer.step()\n",
        "        \n",
        "        training_loss += loss.item()\n",
        "        training_acc += accuracy.item()\n",
        "\n",
        "    return training_loss / len(iterator), training_acc / len(iterator)\n",
        "\n",
        "def evaluate(model, iterator, criterion):\n",
        "\n",
        "    eval_loss = 0.0\n",
        "    eval_acc = 0\n",
        "    \n",
        "    model.eval()\n",
        "    \n",
        "    with torch.no_grad():\n",
        "    \n",
        "        for batch in iterator:\n",
        "\n",
        "            text, text_lengths = batch.text\n",
        "            text_lengths = text_lengths.cpu()\n",
        "            predictions = model(text, text_lengths).squeeze(1)\n",
        "            \n",
        "            loss = criterion(predictions, batch.label)\n",
        "            \n",
        "            accuracy = batch_accuracy(predictions, batch.label)\n",
        "\n",
        "            eval_loss += loss.item()\n",
        "            eval_acc += accuracy.item()\n",
        "        \n",
        "    return eval_loss / len(iterator), eval_acc / len(iterator)"
      ]
    },
    {
      "cell_type": "markdown",
      "metadata": {
        "id": "fTafSh9H104k"
      },
      "source": [
        "#### Model - LSTM"
      ]
    },
    {
      "cell_type": "code",
      "execution_count": 13,
      "metadata": {
        "id": "DPFaaI9r1-Ny"
      },
      "outputs": [],
      "source": [
        "class LSTM(nn.Module):\n",
        "    def __init__(self, vocab_size, embedding_dim, hidden_dim, output_dim, n_layers, \n",
        "                 bidirectional, dropout, pad_idx):\n",
        "        \n",
        "        super().__init__()\n",
        "\n",
        "        self.embedding = nn.Embedding(vocab_size, embedding_dim, padding_idx = pad_idx)\n",
        "\n",
        "        self.encoder = nn.LSTM(embedding_dim, hidden_dim, num_layers=n_layers,\n",
        "                                                  bidirectional=bidirectional,\n",
        "                                                  dropout=dropout)\n",
        "\n",
        "        self.predictor = nn.Linear(hidden_dim*2, output_dim)\n",
        "\n",
        "        self.dropout = nn.Dropout(dropout)\n",
        "\n",
        "    def forward(self, text, text_lengths):\n",
        "\n",
        "        embedded = self.dropout(self.embedding(text)) \n",
        "        packed_embedded = nn.utils.rnn.pack_padded_sequence(embedded, text_lengths)\n",
        "        packed_output, (hidden, cell) = self.encoder(packed_embedded)\n",
        "        output, output_lengths = nn.utils.rnn.pad_packed_sequence(packed_output)\n",
        "\n",
        "\n",
        "        hidden = self.dropout(torch.cat((hidden[-2,:,:], hidden[-1,:,:]), dim = 1))\n",
        "\n",
        "\n",
        "        return self.predictor(hidden)"
      ]
    },
    {
      "cell_type": "code",
      "execution_count": 14,
      "metadata": {
        "id": "hciii85Y2SaZ"
      },
      "outputs": [],
      "source": [
        "INPUT_DIM = len(TEXT.vocab)\n",
        "EMBEDDING_DIM = 100\n",
        "HIDDEN_DIM = 150\n",
        "OUTPUT_DIM = 1\n",
        "N_LAYERS = 2\n",
        "BIDIRECTIONAL = False\n",
        "DROPOUT = 0.5\n",
        "PAD_IDX = TEXT.vocab.stoi[TEXT.pad_token]\n",
        "\n",
        "model_1D = LSTM(INPUT_DIM,\n",
        "            EMBEDDING_DIM,\n",
        "            HIDDEN_DIM,\n",
        "            OUTPUT_DIM,\n",
        "            N_LAYERS,\n",
        "            BIDIRECTIONAL,\n",
        "            DROPOUT,\n",
        "            PAD_IDX)\n",
        "\n",
        "BIDIRECTIONAL = True\n",
        "model_2D = LSTM(INPUT_DIM,\n",
        "            EMBEDDING_DIM,\n",
        "            HIDDEN_DIM,\n",
        "            OUTPUT_DIM,\n",
        "            N_LAYERS,\n",
        "            BIDIRECTIONAL,\n",
        "            DROPOUT,\n",
        "            PAD_IDX)"
      ]
    },
    {
      "cell_type": "code",
      "execution_count": 15,
      "metadata": {
        "id": "re4L2Cm7CfAN",
        "colab": {
          "base_uri": "https://localhost:8080/"
        },
        "outputId": "774197b3-8966-4b75-e3de-c43867c4b715"
      },
      "outputs": [
        {
          "output_type": "execute_result",
          "data": {
            "text/plain": [
              "tensor([[ 1.5107, -0.2283, -0.3392,  ...,  1.1965,  0.5563, -1.5424],\n",
              "        [-1.0828,  0.2196, -0.7311,  ..., -0.5476,  0.9732,  0.2092],\n",
              "        [-0.0465,  0.6197,  0.5665,  ..., -0.3762, -0.0325,  0.8062],\n",
              "        ...,\n",
              "        [ 0.5709, -0.5875,  0.1372,  ..., -0.3089,  0.5500,  2.2880],\n",
              "        [-0.0966, -0.6294, -1.5139,  ...,  0.6840,  0.3758, -0.2802],\n",
              "        [-0.8884, -1.0695,  0.1086,  ..., -0.8364,  0.5210, -1.4874]])"
            ]
          },
          "metadata": {},
          "execution_count": 15
        }
      ],
      "source": [
        "pretrained_embeddings = TEXT.vocab.vectors\n",
        "model_1D.embedding.weight.data.copy_(pretrained_embeddings)\n",
        "model_2D.embedding.weight.data.copy_(pretrained_embeddings)"
      ]
    },
    {
      "cell_type": "code",
      "execution_count": 16,
      "metadata": {
        "id": "bUHA1RoOI7iW"
      },
      "outputs": [],
      "source": [
        "UNK_IDX = TEXT.vocab.stoi[TEXT.unk_token]\n",
        "\n",
        "model_1D.embedding.weight.data[UNK_IDX] = torch.zeros(EMBEDDING_DIM)\n",
        "model_1D.embedding.weight.data[PAD_IDX] = torch.zeros(EMBEDDING_DIM)\n",
        "\n",
        "\n",
        "model_2D.embedding.weight.data[UNK_IDX] = torch.zeros(EMBEDDING_DIM)\n",
        "model_2D.embedding.weight.data[PAD_IDX] = torch.zeros(EMBEDDING_DIM)"
      ]
    },
    {
      "cell_type": "markdown",
      "metadata": {
        "id": "rbfK_mIM2Jc2"
      },
      "source": [
        "#### Training the Model - 1 Directional"
      ]
    },
    {
      "cell_type": "code",
      "execution_count": 17,
      "metadata": {
        "id": "qZsoLknRAZHt"
      },
      "outputs": [],
      "source": [
        "optimizer = optim.Adam(model_1D.parameters(), lr=1e-3)\n",
        "\n",
        "criterion = nn.BCEWithLogitsLoss()\n",
        "\n",
        "model = model_1D.to(device)\n",
        "criterion = criterion.to(device)"
      ]
    },
    {
      "cell_type": "code",
      "execution_count": 18,
      "metadata": {
        "id": "fI5q_FxVgdsy",
        "colab": {
          "base_uri": "https://localhost:8080/"
        },
        "outputId": "388c18c9-175b-4d35-d062-08c9dafecb10"
      },
      "outputs": [
        {
          "output_type": "stream",
          "name": "stdout",
          "text": [
            "Epoch 1:\n",
            "\t Total Time: 0m 10s\n",
            "\t Train Loss 0.52 | Train Accuracy: 74.01%\n",
            "\t Validation Loss 0.43 | Validation Accuracy: 80.22%\n",
            "Epoch 2:\n",
            "\t Total Time: 0m 10s\n",
            "\t Train Loss 0.43 | Train Accuracy: 80.08%\n",
            "\t Validation Loss 0.41 | Validation Accuracy: 81.79%\n",
            "Epoch 3:\n",
            "\t Total Time: 0m 10s\n",
            "\t Train Loss 0.4 | Train Accuracy: 82.17%\n",
            "\t Validation Loss 0.39 | Validation Accuracy: 82.72%\n",
            "Epoch 4:\n",
            "\t Total Time: 0m 10s\n",
            "\t Train Loss 0.37 | Train Accuracy: 83.48%\n",
            "\t Validation Loss 0.38 | Validation Accuracy: 83.1%\n",
            "Epoch 5:\n",
            "\t Total Time: 0m 10s\n",
            "\t Train Loss 0.35 | Train Accuracy: 84.6%\n",
            "\t Validation Loss 0.38 | Validation Accuracy: 83.1%\n",
            "Epoch 6:\n",
            "\t Total Time: 0m 10s\n",
            "\t Train Loss 0.34 | Train Accuracy: 85.44%\n",
            "\t Validation Loss 0.38 | Validation Accuracy: 83.52%\n",
            "Epoch 7:\n",
            "\t Total Time: 0m 10s\n",
            "\t Train Loss 0.32 | Train Accuracy: 86.12%\n",
            "\t Validation Loss 0.38 | Validation Accuracy: 83.69%\n",
            "Epoch 8:\n",
            "\t Total Time: 0m 10s\n",
            "\t Train Loss 0.31 | Train Accuracy: 86.82%\n",
            "\t Validation Loss 0.39 | Validation Accuracy: 83.47%\n",
            "Epoch 9:\n",
            "\t Total Time: 0m 10s\n",
            "\t Train Loss 0.29 | Train Accuracy: 87.56%\n",
            "\t Validation Loss 0.39 | Validation Accuracy: 83.46%\n",
            "Epoch 10:\n",
            "\t Total Time: 0m 10s\n",
            "\t Train Loss 0.28 | Train Accuracy: 87.98%\n",
            "\t Validation Loss 0.4 | Validation Accuracy: 83.65%\n"
          ]
        }
      ],
      "source": [
        "NUM_EPOCHS = 10\n",
        "\n",
        "best_valid_loss = float('inf')\n",
        "train_losses = []\n",
        "val_losses = []\n",
        "train_accs = []\n",
        "val_accs = []\n",
        "\n",
        "for epoch in range(NUM_EPOCHS):\n",
        "\n",
        "    start_time = time.time()\n",
        "    \n",
        "    train_loss, train_acc = train(model_1D, train_iterator, optimizer, criterion)\n",
        "    \n",
        "    valid_loss, valid_acc = evaluate(model_1D, valid_iterator, criterion)\n",
        "\n",
        "    train_losses.append(train_loss)\n",
        "    val_losses.append(valid_loss)\n",
        "    train_accs.append(train_acc)\n",
        "    val_accs.append(valid_acc)\n",
        "\n",
        "    end_time = time.time()\n",
        "\n",
        "    mins, secs = timer(start_time, end_time)\n",
        "    \n",
        "    if valid_loss < best_valid_loss:\n",
        "        best_valid_loss = valid_loss\n",
        "        torch.save(model.state_dict(), 'model-small.pt')\n",
        "\n",
        "    print(\"Epoch {}:\".format(epoch+1))\n",
        "    print(\"\\t Total Time: {}m {}s\".format(mins, secs))\n",
        "    print(\"\\t Train Loss {} | Train Accuracy: {}%\".format(round(train_loss, 2), round(train_acc*100, 2)))\n",
        "    print(\"\\t Validation Loss {} | Validation Accuracy: {}%\".format(round(valid_loss, 2), round(valid_acc*100, 2)))"
      ]
    },
    {
      "cell_type": "code",
      "execution_count": 19,
      "metadata": {
        "id": "jJvOuhYVJ-73",
        "colab": {
          "base_uri": "https://localhost:8080/",
          "height": 949
        },
        "outputId": "03bd8278-d223-4a0d-acdb-98a2901e1de6"
      },
      "outputs": [
        {
          "output_type": "display_data",
          "data": {
            "image/png": "[encoded data removed]",
            "text/plain": [
              "<Figure size 1440x360 with 1 Axes>"
            ]
          },
          "metadata": {
            "needs_background": "light"
          }
        },
        {
          "output_type": "display_data",
          "data": {
            "image/png": "[encoded data removed]",
            "text/plain": [
              "<Figure size 1440x360 with 1 Axes>"
            ]
          },
          "metadata": {
            "needs_background": "light"
          }
        },
        {
          "output_type": "display_data",
          "data": {
            "image/png": "[encoded data removed]",
            "text/plain": [
              "<Figure size 432x288 with 2 Axes>"
            ]
          },
          "metadata": {
            "needs_background": "light"
          }
        }
      ],
      "source": [
        "fig, axes = plt.subplots(1, 1, figsize=(20,5))\n",
        "plt.plot(np.linspace(1, NUM_EPOCHS, NUM_EPOCHS), train_losses, label='Training Loss')\n",
        "plt.plot(np.linspace(1, NUM_EPOCHS, NUM_EPOCHS), val_losses, label='Validation Loss')\n",
        "plt.title('Loss Plot for 1 Direction LSTM')\n",
        "plt.legend()\n",
        "plt.show()\n",
        "\n",
        "fig, axes = plt.subplots(1, 1, figsize=(20,5))\n",
        "plt.plot(np.linspace(1, NUM_EPOCHS, NUM_EPOCHS), train_accs, label='Training Accuracy')\n",
        "plt.plot(np.linspace(1, NUM_EPOCHS, NUM_EPOCHS), val_accs, label='Validation Accuracy')\n",
        "plt.title('Accuracy Plot for 1 Direction LSTM')\n",
        "plt.legend()\n",
        "plt.show()\n",
        "\n",
        "print_confusion_matrix(model_1D, test_iterator, 2)"
      ]
    },
    {
      "cell_type": "markdown",
      "metadata": {
        "id": "vkhP0vtvBFrz"
      },
      "source": [
        "#### Training the Model - BiDirectional"
      ]
    },
    {
      "cell_type": "code",
      "execution_count": 20,
      "metadata": {
        "id": "9q880EHIBIoS"
      },
      "outputs": [],
      "source": [
        "optimizer = optim.Adam(model_2D.parameters(), lr=1e-3)\n",
        "\n",
        "criterion = nn.BCEWithLogitsLoss()\n",
        "\n",
        "model = model_2D.to(device)\n",
        "criterion = criterion.to(device)"
      ]
    },
    {
      "cell_type": "code",
      "execution_count": 21,
      "metadata": {
        "id": "SGTFxUWFBLK_",
        "colab": {
          "base_uri": "https://localhost:8080/"
        },
        "outputId": "53952f6d-3b52-4bd5-dea6-626b3534fae3"
      },
      "outputs": [
        {
          "output_type": "stream",
          "name": "stdout",
          "text": [
            "Epoch 1:\n",
            "\t Total Time: 0m 14s\n",
            "\t Train Loss 0.51 | Train Accuracy: 74.63%\n",
            "\t Validation Loss 0.43 | Validation Accuracy: 80.84%\n",
            "Epoch 2:\n",
            "\t Total Time: 0m 14s\n",
            "\t Train Loss 0.43 | Train Accuracy: 80.5%\n",
            "\t Validation Loss 0.4 | Validation Accuracy: 82.16%\n",
            "Epoch 3:\n",
            "\t Total Time: 0m 14s\n",
            "\t Train Loss 0.39 | Train Accuracy: 82.4%\n",
            "\t Validation Loss 0.38 | Validation Accuracy: 82.93%\n",
            "Epoch 4:\n",
            "\t Total Time: 0m 14s\n",
            "\t Train Loss 0.37 | Train Accuracy: 83.74%\n",
            "\t Validation Loss 0.38 | Validation Accuracy: 83.35%\n",
            "Epoch 5:\n",
            "\t Total Time: 0m 15s\n",
            "\t Train Loss 0.35 | Train Accuracy: 84.81%\n",
            "\t Validation Loss 0.38 | Validation Accuracy: 83.49%\n",
            "Epoch 6:\n",
            "\t Total Time: 0m 15s\n",
            "\t Train Loss 0.33 | Train Accuracy: 85.62%\n",
            "\t Validation Loss 0.39 | Validation Accuracy: 83.63%\n",
            "Epoch 7:\n",
            "\t Total Time: 0m 15s\n",
            "\t Train Loss 0.32 | Train Accuracy: 86.4%\n",
            "\t Validation Loss 0.38 | Validation Accuracy: 83.38%\n",
            "Epoch 8:\n",
            "\t Total Time: 0m 14s\n",
            "\t Train Loss 0.3 | Train Accuracy: 87.11%\n",
            "\t Validation Loss 0.39 | Validation Accuracy: 83.51%\n",
            "Epoch 9:\n",
            "\t Total Time: 0m 14s\n",
            "\t Train Loss 0.29 | Train Accuracy: 87.73%\n",
            "\t Validation Loss 0.4 | Validation Accuracy: 83.46%\n",
            "Epoch 10:\n",
            "\t Total Time: 0m 14s\n",
            "\t Train Loss 0.28 | Train Accuracy: 88.23%\n",
            "\t Validation Loss 0.4 | Validation Accuracy: 83.69%\n"
          ]
        }
      ],
      "source": [
        "NUM_EPOCHS = 10\n",
        "\n",
        "best_valid_loss = float('inf')\n",
        "train_losses = []\n",
        "val_losses = []\n",
        "train_accs = []\n",
        "val_accs = []\n",
        "\n",
        "for epoch in range(NUM_EPOCHS):\n",
        "\n",
        "    start_time = time.time()\n",
        "    \n",
        "    train_loss, train_acc = train(model_2D, train_iterator, optimizer, criterion)\n",
        "    \n",
        "    valid_loss, valid_acc = evaluate(model_2D, valid_iterator, criterion)\n",
        "\n",
        "    train_losses.append(train_loss)\n",
        "    val_losses.append(valid_loss)\n",
        "    train_accs.append(train_acc)\n",
        "    val_accs.append(valid_acc)\n",
        "\n",
        "    end_time = time.time()\n",
        "\n",
        "    mins, secs = timer(start_time, end_time)\n",
        "    \n",
        "    if valid_loss < best_valid_loss:\n",
        "        best_valid_loss = valid_loss\n",
        "        torch.save(model.state_dict(), 'model-small.pt')\n",
        "\n",
        "    print(\"Epoch {}:\".format(epoch+1))\n",
        "    print(\"\\t Total Time: {}m {}s\".format(mins, secs))\n",
        "    print(\"\\t Train Loss {} | Train Accuracy: {}%\".format(round(train_loss, 2), round(train_acc*100, 2)))\n",
        "    print(\"\\t Validation Loss {} | Validation Accuracy: {}%\".format(round(valid_loss, 2), round(valid_acc*100, 2)))\n",
        "\n"
      ]
    },
    {
      "cell_type": "code",
      "execution_count": 22,
      "metadata": {
        "id": "pLdzGI65KYSO",
        "colab": {
          "base_uri": "https://localhost:8080/",
          "height": 0
        },
        "outputId": "572525cb-45a2-48ba-9d68-194819947061"
      },
      "outputs": [
        {
          "output_type": "display_data",
          "data": {
            "image/png": "[encoded data removed]",
            "text/plain": [
              "<Figure size 1440x360 with 1 Axes>"
            ]
          },
          "metadata": {
            "needs_background": "light"
          }
        },
        {
          "output_type": "display_data",
          "data": {
            "image/png": "[encoded data removed]",
            "text/plain": [
              "<Figure size 1440x360 with 1 Axes>"
            ]
          },
          "metadata": {
            "needs_background": "light"
          }
        },
        {
          "output_type": "display_data",
          "data": {
            "image/png": "[encoded data removed]",
            "text/plain": [
              "<Figure size 432x288 with 2 Axes>"
            ]
          },
          "metadata": {
            "needs_background": "light"
          }
        }
      ],
      "source": [
        "fig, axes = plt.subplots(1, 1, figsize=(20,5))\n",
        "plt.plot(np.linspace(1, NUM_EPOCHS, NUM_EPOCHS), train_losses, label='Training Loss')\n",
        "plt.plot(np.linspace(1, NUM_EPOCHS, NUM_EPOCHS), val_losses, label='Validation Loss')\n",
        "plt.title('Loss Plot for 2 Direction LSTM')\n",
        "plt.legend()\n",
        "plt.show()\n",
        "\n",
        "fig, axes = plt.subplots(1, 1, figsize=(20,5))\n",
        "plt.plot(np.linspace(1, NUM_EPOCHS, NUM_EPOCHS), train_accs, label='Training Accuracy')\n",
        "plt.plot(np.linspace(1, NUM_EPOCHS, NUM_EPOCHS), val_accs, label='Validation Accuracy')\n",
        "plt.title('Accuracy Plot for 2 Direction LSTM')\n",
        "plt.legend()\n",
        "plt.show()\n",
        "\n",
        "print_confusion_matrix(model_2D, test_iterator, 2)"
      ]
    },
    {
      "cell_type": "markdown",
      "metadata": {
        "id": "myan6axlo9O3"
      },
      "source": [
        "#### Model - LSTM Pyramid"
      ]
    },
    {
      "cell_type": "code",
      "execution_count": 23,
      "metadata": {
        "id": "JrNCoqCwpCoY"
      },
      "outputs": [],
      "source": [
        "class LSTM(nn.Module):\n",
        "    def __init__(self, vocab_size, embedding_dim, hidden_dim, output_dim, n_layers, \n",
        "                 bidirectional, dropout, pad_idx):\n",
        "        \n",
        "        super().__init__()\n",
        "\n",
        "        self.embedding = nn.Embedding(vocab_size, embedding_dim, padding_idx = pad_idx)\n",
        "\n",
        "        self.encoder = nn.LSTM(embedding_dim, hidden_dim, num_layers=n_layers,\n",
        "                                                  bidirectional=bidirectional,\n",
        "                                                  dropout=dropout)\n",
        "\n",
        "        self.predictor = nn.Linear(hidden_dim*2, output_dim)\n",
        "\n",
        "        self.dropout = nn.Dropout(dropout)\n",
        "\n",
        "    def forward(self, text, text_lengths):\n",
        "\n",
        "        embedded = self.dropout(self.embedding(text)) \n",
        "        packed_embedded = nn.utils.rnn.pack_padded_sequence(embedded, text_lengths)\n",
        "\n",
        "        raw_output = packed_embedded\n",
        "        new_hidden = []\n",
        "        raw_outputs = []\n",
        "        outputs = []\n",
        "        hidden = None\n",
        "        for l, rnn in enumerate(range(4)):\n",
        "            raw_output, (hidden, cell) = self.encoder(raw_output)\n",
        "            \n",
        "        hidden = self.dropout(torch.cat((hidden[-2,:,:], hidden[-1,:,:]), dim = 1))\n",
        "\n",
        "        return self.predictor(hidden)"
      ]
    },
    {
      "cell_type": "code",
      "execution_count": 24,
      "metadata": {
        "id": "b0irTfv6pbLV"
      },
      "outputs": [],
      "source": [
        "INPUT_DIM = len(TEXT.vocab)\n",
        "EMBEDDING_DIM = 100\n",
        "HIDDEN_DIM = 100\n",
        "OUTPUT_DIM = 1\n",
        "N_LAYERS = 2\n",
        "BIDIRECTIONAL = False\n",
        "DROPOUT = 0.5\n",
        "PAD_IDX = TEXT.vocab.stoi[TEXT.pad_token]\n",
        "\n",
        "model = LSTM(INPUT_DIM,\n",
        "            EMBEDDING_DIM,\n",
        "            HIDDEN_DIM,\n",
        "            OUTPUT_DIM,\n",
        "            N_LAYERS,\n",
        "            BIDIRECTIONAL,\n",
        "            DROPOUT,\n",
        "            PAD_IDX)"
      ]
    },
    {
      "cell_type": "code",
      "execution_count": 25,
      "metadata": {
        "id": "FKipRhdqpe66",
        "colab": {
          "base_uri": "https://localhost:8080/"
        },
        "outputId": "1f9bc481-569f-47c5-fc3e-35c7a033493d"
      },
      "outputs": [
        {
          "output_type": "execute_result",
          "data": {
            "text/plain": [
              "tensor([[ 1.5107, -0.2283, -0.3392,  ...,  1.1965,  0.5563, -1.5424],\n",
              "        [-1.0828,  0.2196, -0.7311,  ..., -0.5476,  0.9732,  0.2092],\n",
              "        [-0.0465,  0.6197,  0.5665,  ..., -0.3762, -0.0325,  0.8062],\n",
              "        ...,\n",
              "        [ 0.5709, -0.5875,  0.1372,  ..., -0.3089,  0.5500,  2.2880],\n",
              "        [-0.0966, -0.6294, -1.5139,  ...,  0.6840,  0.3758, -0.2802],\n",
              "        [-0.8884, -1.0695,  0.1086,  ..., -0.8364,  0.5210, -1.4874]])"
            ]
          },
          "metadata": {},
          "execution_count": 25
        }
      ],
      "source": [
        "pretrained_embeddings = TEXT.vocab.vectors\n",
        "model.embedding.weight.data.copy_(pretrained_embeddings)"
      ]
    },
    {
      "cell_type": "code",
      "execution_count": 26,
      "metadata": {
        "id": "KmxA3-PzpfMz"
      },
      "outputs": [],
      "source": [
        "UNK_IDX = TEXT.vocab.stoi[TEXT.unk_token]\n",
        "\n",
        "model.embedding.weight.data[UNK_IDX] = torch.zeros(EMBEDDING_DIM)\n",
        "model.embedding.weight.data[PAD_IDX] = torch.zeros(EMBEDDING_DIM)"
      ]
    },
    {
      "cell_type": "markdown",
      "metadata": {
        "id": "1Rka43Vuu_qi"
      },
      "source": [
        "#### Training the Model - Pyramid"
      ]
    },
    {
      "cell_type": "code",
      "execution_count": 27,
      "metadata": {
        "id": "DcD8CB1wvCHt"
      },
      "outputs": [],
      "source": [
        "optimizer = optim.Adam(model.parameters(), lr=1e-3)\n",
        "\n",
        "criterion = nn.BCEWithLogitsLoss()\n",
        "\n",
        "model = model.to(device)\n",
        "criterion = criterion.to(device)"
      ]
    },
    {
      "cell_type": "code",
      "execution_count": 28,
      "metadata": {
        "id": "RZmBTiXqvGQG",
        "colab": {
          "base_uri": "https://localhost:8080/"
        },
        "outputId": "727e9592-b81e-4d22-c35a-2692ae4ca250"
      },
      "outputs": [
        {
          "output_type": "stream",
          "name": "stdout",
          "text": [
            "Epoch 1:\n",
            "\t Total Time: 0m 19s\n",
            "\t Train Loss 0.58 | Train Accuracy: 65.85%\n",
            "\t Validation Loss 0.45 | Validation Accuracy: 79.85%\n",
            "Epoch 2:\n",
            "\t Total Time: 0m 19s\n",
            "\t Train Loss 0.44 | Train Accuracy: 79.68%\n",
            "\t Validation Loss 0.42 | Validation Accuracy: 81.41%\n",
            "Epoch 3:\n",
            "\t Total Time: 0m 19s\n",
            "\t Train Loss 0.41 | Train Accuracy: 81.65%\n",
            "\t Validation Loss 0.41 | Validation Accuracy: 81.8%\n",
            "Epoch 4:\n",
            "\t Total Time: 0m 19s\n",
            "\t Train Loss 0.39 | Train Accuracy: 82.8%\n",
            "\t Validation Loss 0.4 | Validation Accuracy: 82.66%\n",
            "Epoch 5:\n",
            "\t Total Time: 0m 19s\n",
            "\t Train Loss 0.37 | Train Accuracy: 83.93%\n",
            "\t Validation Loss 0.39 | Validation Accuracy: 82.94%\n",
            "Epoch 6:\n",
            "\t Total Time: 0m 19s\n",
            "\t Train Loss 0.35 | Train Accuracy: 84.75%\n",
            "\t Validation Loss 0.38 | Validation Accuracy: 83.09%\n",
            "Epoch 7:\n",
            "\t Total Time: 0m 19s\n",
            "\t Train Loss 0.34 | Train Accuracy: 85.42%\n",
            "\t Validation Loss 0.4 | Validation Accuracy: 82.85%\n",
            "Epoch 8:\n",
            "\t Total Time: 0m 19s\n",
            "\t Train Loss 0.33 | Train Accuracy: 86.08%\n",
            "\t Validation Loss 0.41 | Validation Accuracy: 83.03%\n",
            "Epoch 9:\n",
            "\t Total Time: 0m 19s\n",
            "\t Train Loss 0.32 | Train Accuracy: 86.63%\n",
            "\t Validation Loss 0.4 | Validation Accuracy: 83.09%\n",
            "Epoch 10:\n",
            "\t Total Time: 0m 19s\n",
            "\t Train Loss 0.3 | Train Accuracy: 87.16%\n",
            "\t Validation Loss 0.4 | Validation Accuracy: 83.1%\n",
            "Epoch 11:\n",
            "\t Total Time: 0m 19s\n",
            "\t Train Loss 0.3 | Train Accuracy: 87.6%\n",
            "\t Validation Loss 0.41 | Validation Accuracy: 82.96%\n",
            "Epoch 12:\n",
            "\t Total Time: 0m 19s\n",
            "\t Train Loss 0.28 | Train Accuracy: 88.13%\n",
            "\t Validation Loss 0.42 | Validation Accuracy: 82.67%\n",
            "Epoch 13:\n",
            "\t Total Time: 0m 19s\n",
            "\t Train Loss 0.28 | Train Accuracy: 88.48%\n",
            "\t Validation Loss 0.43 | Validation Accuracy: 82.99%\n",
            "Epoch 14:\n",
            "\t Total Time: 0m 19s\n",
            "\t Train Loss 0.27 | Train Accuracy: 88.92%\n",
            "\t Validation Loss 0.42 | Validation Accuracy: 82.99%\n",
            "Epoch 15:\n",
            "\t Total Time: 0m 19s\n",
            "\t Train Loss 0.26 | Train Accuracy: 89.19%\n",
            "\t Validation Loss 0.44 | Validation Accuracy: 82.5%\n",
            "Epoch 16:\n",
            "\t Total Time: 0m 19s\n",
            "\t Train Loss 0.25 | Train Accuracy: 89.55%\n",
            "\t Validation Loss 0.43 | Validation Accuracy: 82.67%\n",
            "Epoch 17:\n",
            "\t Total Time: 0m 19s\n",
            "\t Train Loss 0.25 | Train Accuracy: 89.89%\n",
            "\t Validation Loss 0.46 | Validation Accuracy: 82.46%\n",
            "Epoch 18:\n",
            "\t Total Time: 0m 19s\n",
            "\t Train Loss 0.24 | Train Accuracy: 90.22%\n",
            "\t Validation Loss 0.45 | Validation Accuracy: 82.34%\n",
            "Epoch 19:\n",
            "\t Total Time: 0m 19s\n",
            "\t Train Loss 0.23 | Train Accuracy: 90.58%\n",
            "\t Validation Loss 0.47 | Validation Accuracy: 82.33%\n",
            "Epoch 20:\n",
            "\t Total Time: 0m 19s\n",
            "\t Train Loss 0.23 | Train Accuracy: 90.78%\n",
            "\t Validation Loss 0.45 | Validation Accuracy: 82.12%\n"
          ]
        }
      ],
      "source": [
        "NUM_EPOCHS = 20\n",
        "\n",
        "best_valid_loss = float('inf')\n",
        "train_losses = []\n",
        "val_losses = []\n",
        "train_accs = []\n",
        "val_accs = []\n",
        "\n",
        "for epoch in range(NUM_EPOCHS):\n",
        "\n",
        "    start_time = time.time()\n",
        "    \n",
        "    train_loss, train_acc = train(model, train_iterator, optimizer, criterion)\n",
        "    valid_loss, valid_acc = evaluate(model, valid_iterator, criterion)\n",
        "\n",
        "    train_losses.append(train_loss)\n",
        "    val_losses.append(valid_loss)\n",
        "    train_accs.append(train_acc)\n",
        "    val_accs.append(valid_acc)\n",
        "\n",
        "    end_time = time.time()\n",
        "\n",
        "    mins, secs = timer(start_time, end_time)\n",
        "    \n",
        "    if valid_loss < best_valid_loss:\n",
        "        best_valid_loss = valid_loss\n",
        "        torch.save(model.state_dict(), 'model-small.pt')\n",
        "\n",
        "    print(\"Epoch {}:\".format(epoch+1))\n",
        "    print(\"\\t Total Time: {}m {}s\".format(mins, secs))\n",
        "    print(\"\\t Train Loss {} | Train Accuracy: {}%\".format(round(train_loss, 2), round(train_acc*100, 2)))\n",
        "    print(\"\\t Validation Loss {} | Validation Accuracy: {}%\".format(round(valid_loss, 2), round(valid_acc*100, 2)))"
      ]
    },
    {
      "cell_type": "code",
      "execution_count": 29,
      "metadata": {
        "id": "-qpScDheNJdg",
        "colab": {
          "base_uri": "https://localhost:8080/",
          "height": 949
        },
        "outputId": "513e3ade-4bb0-4f5e-9568-cd3ee48300d4"
      },
      "outputs": [
        {
          "output_type": "display_data",
          "data": {
            "image/png": "[encoded data removed]",
            "text/plain": [
              "<Figure size 1440x360 with 1 Axes>"
            ]
          },
          "metadata": {
            "needs_background": "light"
          }
        },
        {
          "output_type": "display_data",
          "data": {
            "image/png": "[encoded data removed]",
            "text/plain": [
              "<Figure size 1440x360 with 1 Axes>"
            ]
          },
          "metadata": {
            "needs_background": "light"
          }
        },
        {
          "output_type": "display_data",
          "data": {
            "image/png": "[encoded data removed]",
            "text/plain": [
              "<Figure size 432x288 with 2 Axes>"
            ]
          },
          "metadata": {
            "needs_background": "light"
          }
        }
      ],
      "source": [
        "fig, axes = plt.subplots(1, 1, figsize=(20,5))\n",
        "plt.plot(np.linspace(1, NUM_EPOCHS, NUM_EPOCHS), train_losses, label='Training Loss')\n",
        "plt.plot(np.linspace(1, NUM_EPOCHS, NUM_EPOCHS), val_losses, label='Validation Loss')\n",
        "plt.title('Loss Plot for 2 Direction LSTM')\n",
        "plt.legend()\n",
        "plt.show()\n",
        "\n",
        "fig, axes = plt.subplots(1, 1, figsize=(20,5))\n",
        "plt.plot(np.linspace(1, NUM_EPOCHS, NUM_EPOCHS), train_accs, label='Training Accuracy')\n",
        "plt.plot(np.linspace(1, NUM_EPOCHS, NUM_EPOCHS), val_accs, label='Validation Accuracy')\n",
        "plt.title('Accuracy Plot for 2 Direction LSTM')\n",
        "plt.legend()\n",
        "plt.show()\n",
        "\n",
        "print_confusion_matrix(model, test_iterator, 2)"
      ]
    },
    {
      "cell_type": "markdown",
      "metadata": {
        "id": "YLBSlHiRXcv0"
      },
      "source": [
        "#### Bert Model"
      ]
    },
    {
      "cell_type": "code",
      "execution_count": null,
      "metadata": {
        "id": "i7vvOwFwXe9p"
      },
      "outputs": [],
      "source": [
        "from pytorch_pretrained_bert import BertTokenizer, BertModel, BertForMaskedLM"
      ]
    },
    {
      "cell_type": "code",
      "execution_count": null,
      "metadata": {
        "id": "XXI3urEfXkxg"
      },
      "outputs": [],
      "source": [
        "class BERT(nn.Module):\n",
        "    def __init__(self, vocab_size, embedding_dim, hidden_dim, output_dim, n_layers, \n",
        "                 bidirectional, dropout, pad_idx):\n",
        "        \n",
        "        super().__init__()\n",
        "        self.dropout = nn.Dropout()\n",
        "        self.bert = BertModel.from_pretrained('bert-base-uncased')\n",
        "\n",
        "    def forward(self, text):\n",
        "        out = self.bert(text)\n",
        "\n",
        "        return out"
      ]
    },
    {
      "cell_type": "code",
      "execution_count": null,
      "metadata": {
        "id": "8akkCsGsY5h2"
      },
      "outputs": [],
      "source": [
        "INPUT_DIM = len(TEXT.vocab)\n",
        "EMBEDDING_DIM = 100\n",
        "HIDDEN_DIM = 150\n",
        "OUTPUT_DIM = 1\n",
        "N_LAYERS = 2\n",
        "BIDIRECTIONAL = False\n",
        "DROPOUT = 0.5\n",
        "PAD_IDX = TEXT.vocab.stoi[TEXT.pad_token]\n",
        "\n",
        "model = BERT(INPUT_DIM,\n",
        "            EMBEDDING_DIM,\n",
        "            HIDDEN_DIM,\n",
        "            OUTPUT_DIM,\n",
        "            N_LAYERS,\n",
        "            BIDIRECTIONAL,\n",
        "            DROPOUT,\n",
        "            PAD_IDX)\n",
        "\n",
        "\n",
        "# pretrained_embeddings = TEXT.vocab.vectors\n",
        "optimizer = optim.Adam(model.parameters(), lr=1e-3)\n",
        "\n",
        "criterion = nn.BCEWithLogitsLoss()\n",
        "\n",
        "model = model.to(device)\n",
        "criterion = criterion.to(device)"
      ]
    },
    {
      "cell_type": "code",
      "execution_count": null,
      "metadata": {
        "id": "b3sXZD_VZVhZ"
      },
      "outputs": [],
      "source": [
        "for batch in train_iterator:\n",
        "\n",
        "    if batch.label.shape[0]!=128:\n",
        "      continue\n",
        "    text, text_lengths = batch.text\n",
        "    text = text.permute(1,0)\n",
        "    text_lengths = text_lengths.cpu()\n",
        "    print(text.shape)\n",
        "\n",
        "    predictions = model(text).squeeze(1)\n",
        "    print(predictions.shape)\n",
        "    preds = torch.round(torch.sigmoid(predictions))\n",
        "    cls_true.append(batch.label)\n",
        "    cls_pred.append(preds)\n",
        "    break"
      ]
    }
  ],
  "metadata": {
    "colab": {
      "collapsed_sections": [
        "WsQEXhGRNHAU",
        "fTafSh9H104k",
        "rbfK_mIM2Jc2",
        "vkhP0vtvBFrz"
      ],
      "name": "Deep_Sentiment.ipynb",
      "provenance": []
    },
    "kernelspec": {
      "display_name": "Python 3",
      "name": "python3"
    },
    "language_info": {
      "name": "python"
    },
    "accelerator": "GPU"
  },
  "nbformat": 4,
  "nbformat_minor": 0
}