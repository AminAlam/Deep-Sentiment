{
  "nbformat": 4,
  "nbformat_minor": 0,
  "metadata": {
    "colab": {
      "name": " Deep-Sentiment.ipynb",
      "provenance": []
    },
    "kernelspec": {
      "name": "python3",
      "display_name": "Python 3"
    },
    "language_info": {
      "name": "python"
    }
  },
  "cells": [
    {
      "cell_type": "code",
      "execution_count": 4,
      "metadata": {
        "colab": {
          "base_uri": "https://localhost:8080/"
        },
        "id": "A3VEjxTL2Muq",
        "outputId": "93fa45d2-7c73-4fc3-e997-dc66ef570671"
      },
      "outputs": [
        {
          "output_type": "execute_result",
          "data": {
            "text/plain": [
              "<torch._C.Generator at 0x7fcf3e595a90>"
            ]
          },
          "metadata": {},
          "execution_count": 4
        }
      ],
      "source": [
        "import torch\n",
        "import torch.nn as nn\n",
        "import torch.nn.functional as F\n",
        "import torch.optim as optim\n",
        "import numpy as np\n",
        "import matplotlib.pyplot as plt\n",
        "import csv\n",
        "\n",
        "torch.manual_seed(1)"
      ]
    },
    {
      "cell_type": "markdown",
      "source": [
        "#### Loading Dataset - Preprocessing on the Tweets"
      ],
      "metadata": {
        "id": "WsQEXhGRNHAU"
      }
    },
    {
      "cell_type": "code",
      "source": [
        "def remove_writing_marks(string):\n",
        "  for char in ['?','!','#','@',',','.','$','%','^','&','*',')','(','/','~','`','&','+','+','_',';',':',\"'\"]:\n",
        "    if char == '#':\n",
        "      replaced = \"Hashtag \"\n",
        "    elif  char == '@':\n",
        "      replaced = \"Atsign \"\n",
        "    else:\n",
        "      replaced = ''\n",
        "    string = string.replace(char, replaced)\n",
        "  return string\n",
        "\n",
        "def change_label(label):\n",
        "  if '0' in label:\n",
        "    label = 0\n",
        "  elif '2' in label:\n",
        "    label = 1\n",
        "  elif '4' in label:\n",
        "    label = 2\n",
        "  return label"
      ],
      "metadata": {
        "id": "FYUGZGQGU_mj"
      },
      "execution_count": 5,
      "outputs": []
    },
    {
      "cell_type": "code",
      "source": [
        "from google.colab import drive\n",
        "drive.mount('/content/drive')\n",
        "\n",
        "train_data_dir = r'/content/drive/My Drive/Courses/DeepLearning/HW03/Q01/Datas/train.csv'\n",
        "test_data_dir = r'/content/drive/My Drive/Courses/DeepLearning/HW03/Q01/Datas/test.csv'\n",
        "data_train = []\n",
        "data_test = []\n",
        "words = []\n",
        "\n",
        "with open(train_data_dir, 'r') as csvfile:\n",
        "  csvreader = csv.reader(csvfile)\n",
        "  try:\n",
        "    for row in csvreader:\n",
        "      if 'http' in row[5]:\n",
        "        continue\n",
        "      else:\n",
        "        text = remove_writing_marks(row[5])\n",
        "        label = change_label(row[0])\n",
        "        data_train.append([label, text])\n",
        "\n",
        "        for word in text.split():\n",
        "          if word in words:\n",
        "            pass\n",
        "          else:\n",
        "            words.append(word)\n",
        "  except:\n",
        "      pass\n",
        "\n",
        "with open(test_data_dir, 'r') as csvfile:\n",
        "  csvreader = csv.reader(csvfile,)\n",
        "  try:\n",
        "    for row in csvreader:\n",
        "      text = remove_writing_marks(row[5])\n",
        "      label = change_label(row[0])\n",
        "      data_test.append([label, text])\n",
        "\n",
        "      for word in text.split():\n",
        "          if word in words:\n",
        "            pass\n",
        "          else:\n",
        "            words.append(word)\n",
        "  except:\n",
        "    pass\n",
        "\n",
        "\n",
        "word_to_ix = {word: i for i, word in enumerate(words)}\n",
        "word_to_ix[' '] = len(words)"
      ],
      "metadata": {
        "colab": {
          "base_uri": "https://localhost:8080/"
        },
        "id": "kdoHp4wK41aV",
        "outputId": "b65d0b79-dfe7-4752-caba-156692620565"
      },
      "execution_count": 7,
      "outputs": [
        {
          "output_type": "stream",
          "name": "stdout",
          "text": [
            "Drive already mounted at /content/drive; to attempt to forcibly remount, call drive.mount(\"/content/drive\", force_remount=True).\n"
          ]
        }
      ]
    },
    {
      "cell_type": "markdown",
      "source": [
        "#### Text Embedding"
      ],
      "metadata": {
        "id": "uCvksXWHcKiB"
      }
    },
    {
      "cell_type": "code",
      "source": [
        "import pickle \n",
        "with open('/content/drive/My Drive/Courses/DeepLearning/HW03/Q01/words_dict.pkl', 'wb') as f:\n",
        "    pickle.dump(word_to_ix, f)\n",
        "\n",
        "with open('/content/drive/My Drive/Courses/DeepLearning/HW03/Q01/data_test.pkl', 'wb') as f:\n",
        "    pickle.dump(data_test, f)\n",
        "\n",
        "with open('/content/drive/My Drive/Courses/DeepLearning/HW03/Q01/data_train.pkl', 'wb') as f:\n",
        "    pickle.dump(data_train, f)"
      ],
      "metadata": {
        "id": "JMVw332h06G1"
      },
      "execution_count": 22,
      "outputs": []
    },
    {
      "cell_type": "code",
      "source": [
        "import pickle \n",
        "with open('/content/drive/My Drive/Courses/DeepLearning/HW03/Q01/words_dict.pkl', 'rb') as f:\n",
        "    word_to_ix = pickle.load(f)\n",
        "\n",
        "with open('/content/drive/My Drive/Courses/DeepLearning/HW03/Q01/data_test.pkl', 'rb') as f:\n",
        "    data_test = pickle.load(f)\n",
        "\n",
        "with open('/content/drive/My Drive/Courses/DeepLearning/HW03/Q01/data_train.pkl', 'rb') as f:\n",
        "    data_train = pickle.load(f)"
      ],
      "metadata": {
        "id": "bUHA1RoOI7iW"
      },
      "execution_count": 41,
      "outputs": []
    },
    {
      "cell_type": "code",
      "source": [
        "embedding_dim = len(words)+1\n",
        "vocab_size = 38\n",
        "\n",
        "for data in data_train:\n",
        "  Size = len(data[1])\n",
        "  if Size < vocab_size:\n",
        "    for i in range(vocab_size-Size):\n",
        "      data[1].append(' ')\n",
        "\n",
        "for data in data_test:\n",
        "  data[1] = data[1].split()\n",
        "  Size = len(data[1])\n",
        "  if Size < vocab_size:\n",
        "    for i in range(vocab_size-Size):\n",
        "      data[1].append(' ')"
      ],
      "metadata": {
        "id": "ooQwTWFSbzrv"
      },
      "execution_count": 42,
      "outputs": []
    },
    {
      "cell_type": "code",
      "source": [
        "embedding_dim = len(words)+1"
      ],
      "metadata": {
        "id": "uQCt-gLO3fX8"
      },
      "execution_count": 51,
      "outputs": []
    },
    {
      "cell_type": "code",
      "source": [
        "embeddings = nn.Embedding(embedding_dim, vocab_size)"
      ],
      "metadata": {
        "id": "P1Gp8QA432D-"
      },
      "execution_count": 68,
      "outputs": []
    },
    {
      "cell_type": "code",
      "source": [
        "context = data_test[2][1]\n",
        "context = [word_to_ix[w] for w in context]\n",
        "context = torch.tensor(context, dtype=torch.long)\n",
        "embeddings(context)"
      ],
      "metadata": {
        "id": "3_L5C0X98Hj7",
        "outputId": "f00ceb1f-a7c1-4a1c-b7e8-4650ddaaf4f7",
        "colab": {
          "base_uri": "https://localhost:8080/"
        }
      },
      "execution_count": 76,
      "outputs": [
        {
          "output_type": "execute_result",
          "data": {
            "text/plain": [
              "tensor([[-0.8737,  0.8229, -0.8905,  ..., -0.8210,  0.5535,  0.0424],\n",
              "        [-0.1408, -1.4420,  0.0322,  ..., -0.2135, -0.5094,  1.7105],\n",
              "        [ 1.1217, -1.1332,  1.1968,  ..., -0.1908, -0.8057,  0.0472],\n",
              "        ...,\n",
              "        [-1.6494, -0.2544, -1.4821,  ..., -0.1532, -0.6081, -1.1262],\n",
              "        [-1.6494, -0.2544, -1.4821,  ..., -0.1532, -0.6081, -1.1262],\n",
              "        [-1.6494, -0.2544, -1.4821,  ..., -0.1532, -0.6081, -1.1262]],\n",
              "       grad_fn=<EmbeddingBackward0>)"
            ]
          },
          "metadata": {},
          "execution_count": 76
        }
      ]
    },
    {
      "cell_type": "code",
      "source": [
        "embedding_dim"
      ],
      "metadata": {
        "id": "py06ukG08QHh",
        "outputId": "0f7fdd0f-bbc3-466f-9fe7-0cf8f6c264ea",
        "colab": {
          "base_uri": "https://localhost:8080/"
        }
      },
      "execution_count": 54,
      "outputs": [
        {
          "output_type": "execute_result",
          "data": {
            "text/plain": [
              "203379"
            ]
          },
          "metadata": {},
          "execution_count": 54
        }
      ]
    },
    {
      "cell_type": "code",
      "source": [
        ""
      ],
      "metadata": {
        "id": "ZKPutv4N_oa3"
      },
      "execution_count": null,
      "outputs": []
    }
  ]
}