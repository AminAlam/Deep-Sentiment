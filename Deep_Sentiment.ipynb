{
  "nbformat": 4,
  "nbformat_minor": 0,
  "metadata": {
    "colab": {
      "name": " Deep-Sentiment.ipynb",
      "provenance": []
    },
    "kernelspec": {
      "name": "python3",
      "display_name": "Python 3"
    },
    "language_info": {
      "name": "python"
    }
  },
  "cells": [
    {
      "cell_type": "code",
      "execution_count": 3,
      "metadata": {
        "id": "A3VEjxTL2Muq"
      },
      "outputs": [],
      "source": [
        "import torch\n",
        "import numpy as np\n",
        "import matplotlib.pyplot as plt\n",
        "import csv"
      ]
    },
    {
      "cell_type": "code",
      "source": [
        "def remove_writing_marks(string):\n",
        "  for char in ['?','!','#','@',',','.','$','%','^','&','*',')','(','/','~','`','&','+','+','_',';',':',\"'\"]:\n",
        "    if char == '#':\n",
        "      replaced = \"Hashtag \"\n",
        "    elif  char == '@':\n",
        "      replaced = \"Atsign \"\n",
        "    else:\n",
        "      replaced = ''\n",
        "    string = string.replace(char, replaced)\n",
        "  return string\n",
        "\n",
        "def change_label(label):\n",
        "  if label == '0':\n",
        "    label = 0\n",
        "  elif label == '2':\n",
        "    label = 1\n",
        "  elif label == '4':\n",
        "    label = 2"
      ],
      "metadata": {
        "id": "FYUGZGQGU_mj"
      },
      "execution_count": 28,
      "outputs": []
    },
    {
      "cell_type": "markdown",
      "source": [
        "### Loading Dataset - Preprocessing on the Tweets"
      ],
      "metadata": {
        "id": "WsQEXhGRNHAU"
      }
    },
    {
      "cell_type": "code",
      "source": [
        "from google.colab import drive\n",
        "drive.mount('/content/drive')\n",
        "\n",
        "train_data_dir = r'/content/drive/My Drive/Courses/DeepLearning/HW03/Q01/Datas/train.csv'\n",
        "test_data_dir = r'/content/drive/My Drive/Courses/DeepLearning/HW03/Q01/Datas/test.csv'\n",
        "data_train = []\n",
        "data_test = []\n",
        "\n",
        "with open(train_data_dir, 'r') as csvfile:\n",
        "  csvreader = csv.reader(csvfile)\n",
        "  try:\n",
        "    for row in csvreader:\n",
        "      if 'http' in row[5]:\n",
        "        continue\n",
        "      else:\n",
        "        text = remove_writing_marks(row[5])\n",
        "        label = change_label(row[0])\n",
        "        data_train.append([label, text])\n",
        "  except:\n",
        "      pass\n",
        "\n",
        "with open(test_data_dir, 'r') as csvfile:\n",
        "  csvreader = csv.reader(csvfile,)\n",
        "  try:\n",
        "    for row in csvreader:\n",
        "      text = remove_writing_marks(row[5])\n",
        "      label = change_label(row[0])\n",
        "      data_test.append([label, text])\n",
        "  except:\n",
        "    pass"
      ],
      "metadata": {
        "colab": {
          "base_uri": "https://localhost:8080/"
        },
        "id": "kdoHp4wK41aV",
        "outputId": "2d752fb4-85d9-43ed-b746-ea87f7dc1f75"
      },
      "execution_count": 29,
      "outputs": [
        {
          "output_type": "stream",
          "name": "stdout",
          "text": [
            "Drive already mounted at /content/drive; to attempt to forcibly remount, call drive.mount(\"/content/drive\", force_remount=True).\n"
          ]
        }
      ]
    },
    {
      "cell_type": "code",
      "source": [
        "data_train[120]"
      ],
      "metadata": {
        "colab": {
          "base_uri": "https://localhost:8080/"
        },
        "id": "MrdeELFbQUyc",
        "outputId": "3fecebd1-5394-4e5d-ec40-328a4e6799c3"
      },
      "execution_count": 30,
      "outputs": [
        {
          "output_type": "execute_result",
          "data": {
            "text/plain": [
              "[None,\n",
              " 'This week just seems to get longer and longer in terms of how much I need to do and how much Im actually going to get done ']"
            ]
          },
          "metadata": {},
          "execution_count": 30
        }
      ]
    }
  ]
}